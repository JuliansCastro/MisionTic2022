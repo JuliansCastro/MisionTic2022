{
  "nbformat": 4,
  "nbformat_minor": 0,
  "metadata": {
    "colab": {
      "name": "Retos Ciclo I - MisionTIC2022.ipynb",
      "provenance": [],
      "collapsed_sections": []
    },
    "kernelspec": {
      "name": "python3",
      "display_name": "Python 3"
    },
    "language_info": {
      "name": "python"
    }
  },
  "cells": [
    {
      "cell_type": "markdown",
      "metadata": {
        "id": "d4DEf2GWRB3K"
      },
      "source": [
        "#Solución de los retos\n",
        "\n",
        "<script type=\"text/x-mathjax-config\">\n",
        "MathJax.Hub.Config({\n",
        "tex2jax: {\n",
        "inlineMath: [['$','$'], ['\\\\(','\\\\)']],\n",
        "processEscapes: true},\n",
        "jax: [\"input/TeX\",\"input/MathML\",\"input/AsciiMath\",\"output/CommonHTML\"],\n",
        "extensions: [\"tex2jax.js\",\"mml2jax.js\",\"asciimath2jax.js\",\"MathMenu.js\",\"MathZoom.js\",\"AssistiveMML.js\", \"[Contrib]/a11y/accessibility-menu.js\"],\n",
        "TeX: {\n",
        "extensions: [\"AMSmath.js\",\"AMSsymbols.js\",\"noErrors.js\",\"noUndefined.js\"],\n",
        "equationNumbers: {\n",
        "autoNumber: \"AMS\"\n",
        "}\n",
        "}\n",
        "});\n",
        "</script>\n",
        "\n",
        "***Uso de*** $\\LaTeX$\n",
        "\n",
        "How to use [LaTex](http://flennerhag.com/2017-01-14-latex/) in [Markdown](https://www.markdownguide.org/extended-syntax/)\n",
        "\n"
      ]
    },
    {
      "cell_type": "code",
      "metadata": {
        "colab": {
          "base_uri": "https://localhost:8080/"
        },
        "id": "9XB6GNmVsNyw",
        "outputId": "c08264a8-1a35-48a1-88e6-9a627e8acec7"
      },
      "source": [
        "%reset"
      ],
      "execution_count": null,
      "outputs": [
        {
          "output_type": "stream",
          "text": [
            "Once deleted, variables cannot be recovered. Proceed (y/[n])? y\n"
          ],
          "name": "stdout"
        }
      ]
    },
    {
      "cell_type": "markdown",
      "metadata": {
        "id": "y19djcFuNhFx"
      },
      "source": [
        "##Reto 1.Grupo P80: ¡El legado del escudo del Capitán América!"
      ]
    },
    {
      "cell_type": "markdown",
      "metadata": {
        "id": "Msp_DgtpeF_A"
      },
      "source": [
        "En una escena eliminada de ***Falcon and The Winter Soldier***, Sam, Bucky y John Walker decidieron lanzar el escudo del Capitán América y ver qué tan lejos podría llegar si necesitaran atacar de lejos a alguien de los Flag Smashers. El escudo de Bucky fue el que más lejos llegó, su lanzamiento –luego de suprimir cuatro (4) metros- superó el doble de metros recorridos por el escudo de Sam. Mientras tanto, John Walker se siente frustrado porque la distancia que recorrió su lanzamiento es cinco veces menor que la suma de las distancias de Sam y Bucky.\n",
        "\n",
        "Adicionalmente, el gobierno de Estados Unidos decidió categorizar estos lanzamientos. Si el escudo recorrió entre 0 y 20 metros, está en categoría **uno**, si está entre 21 y 30 metros en categoría **dos**, entre 31 y 50 metros se cataloga como categoría **tres**, y, por último, la categoría **cuatro** si es superior a los 50 metros. Esto con el fin de poder considerar la fuerza de nuestros héroes en el campo de batalla.\n",
        "\n",
        "Elabore un programa que, dado el lanzamiento de Sam, muestre en la primera línea los metros recorridos para los lanzamientos de Sam, Bucky y John, separados por un espacio. Luego, en la segunda línea imprima en qué categoría quedó el lanzamiento de John Walker.\n",
        "\n",
        "**Entrada**\n",
        "\n",
        "La entrada es un número entero que representa la distancia en la que llegó el escudo lanzado por Sam.\n",
        "\n",
        "**Salida**\n",
        "\n",
        "Tres números enteros separados por un espacio que simbolizan las distancias de los lanzamientos de Sam, Bucky y John Walker. En la siguiente línea en letras la categoría del lanzamiento de John Walker.\n",
        "\n",
        "**Ejemplo**\n",
        "\n",
        "| Entrada | Salida          |\n",
        "| :------ | :-------------- |\n",
        "| 14      | 14 32 9 <br> uno|"
      ]
    },
    {
      "cell_type": "code",
      "metadata": {
        "colab": {
          "base_uri": "https://localhost:8080/"
        },
        "id": "MsxPhsEJAZyG",
        "outputId": "55b62d8a-fd42-48cd-be5c-167be6556557"
      },
      "source": [
        " \n",
        "sam = int(input('Ingrese la distancia (m) alcanzada por Sam: '))\n",
        "bucky = 2*sam + 4\n",
        "john_walker = int((bucky/2 + 2*sam +2) / 5)\n",
        " \n",
        "def categoria_lanzamiento(john_w):\n",
        "  if john_w >=0 and john_w < 21:\n",
        "    return 'uno'\n",
        "  elif john_w > 20 and john_w < 31:\n",
        "    return 'dos'\n",
        "  elif john_w > 30 and john_w < 51:\n",
        "    return 'tres'\n",
        "  elif john_w > 50:\n",
        "    return 'cuatro'\n",
        " \n",
        "print(f'{sam} {bucky} {john_walker}')\n",
        "print(categoria_lanzamiento(john_walker))"
      ],
      "execution_count": null,
      "outputs": [
        {
          "output_type": "stream",
          "text": [
            "Ingrese la distancia (m) alcanzada por Sam: 14\n",
            "14 32 9\n",
            "uno\n"
          ],
          "name": "stdout"
        }
      ]
    },
    {
      "cell_type": "code",
      "metadata": {
        "colab": {
          "base_uri": "https://localhost:8080/"
        },
        "id": "0mCQWQd7Im6N",
        "outputId": "304d80de-dba8-4d84-a0bc-b6549bdc7ce9"
      },
      "source": [
        "sam = 10\n",
        "pedro = 9\n",
        "john = 32\n",
        "def categoria (metros_john):\n",
        "  if metros_john in range(0,21):\n",
        "    return 'uno'\n",
        "  elif metros_john in range(22,30):\n",
        "    return 'dos'\n",
        "  elif metros_john in range(31,50):\n",
        "    return 'tres'\n",
        " \n",
        "print(f'{john} {sam} {pedro}')\n",
        "print(categoria(john))"
      ],
      "execution_count": null,
      "outputs": [
        {
          "output_type": "stream",
          "text": [
            "32 10 9\n",
            "tres\n"
          ],
          "name": "stdout"
        }
      ]
    },
    {
      "cell_type": "markdown",
      "metadata": {
        "id": "Yu2Zf8OXb9IV"
      },
      "source": [
        "##Reto 2: Grupo P80"
      ]
    },
    {
      "cell_type": "markdown",
      "metadata": {
        "id": "KUM7HTLDM2Mp"
      },
      "source": [
        "\n",
        "El gobierno de los Estados Unidos ha decidido implantar chips en dos presos de Rikers Island, Nueva York: **Frank Castle (Punisher) y Wilson Fisk (Kingpin)**, con el fin de controlar sus pasos. Una noche, Fisk intentó realizar un motín para tomar control de la prisión. Se sabe que Castle es un antihéroe que no permitiría que Fisk se saliera con la suya.\n",
        "\n",
        "En otro lugar, un integrante del gobierno quiere saber quién ganó la batalla, ya que los chips contienen la información de los ataques que cada uno propinó y recibió. Sin embargo, un error de los chips causó que se interpretaran acciones de disputa de otros presos, por lo que solo cuenta con la fiabilidad de los ataques que usaron Castle y Fisk. Para saber qué sucedió, decide tomar cada ataque, asignarles una letra dentro del alfabeto inglés, y formar cadenas de caracteres que representan sus movimientos.\n",
        "\n",
        "De este modo, obtiene tres cadenas: una cadena para Castle, otra para Fisk, y la última representa las arremetidas de todos los presos. Luego, revisa cada choque, verifica si pertenece a los ataques de los dos presos y añade un punto a Castle o a Fisk según corresponda. Al final de cada revisión, añade la letra **C** si Castle tiene más puntos acumulados durante ese choque (y los anteriores) respecto a Fisk, la letra **F** si es Fisk quién lleva más que Castle, o un guion (-) si Fisk y Castle llevan los mismos puntos acumulados. Por último, escribe una cadena de caracteres que representa quién llevaba más puntos al final de cada choque.\n",
        "\n",
        "***Ejemplo***\n",
        "\n",
        "·        Cadena de Castle: AQW\n",
        "\n",
        "·        Cadena de Fisk: APX\n",
        "\n",
        "·        Cadena de ataques presos: PXAQWGBW\n",
        "\n",
        "\n",
        "| Ataques presos     | ¿Es ataque de Castle? | ¿Es ataque de Fisk? | Ganador por puntos <br> acumulados en choque |\n",
        "| :-: | :-: | :-: | :-: |\n",
        "|  P  |  0  |  1  |  F  |\n",
        "|  X  |  0  |  1  |  F  |\n",
        "|  A  |  1  |  1  |  F  |\n",
        "|  Q  |  1  |  0  |  F  |\n",
        "|  W  |  1  |  0  |  -  |\n",
        "|  G  |  0  |  0  |  -  |\n",
        "|  B  |  0  |  0  |  -  |\n",
        "|  W  |  1  |  0  |  C  |\n",
        "\n",
        "\n",
        "· Cadena final: FFFF---C\n",
        "\n",
        "\n",
        "\n",
        "**Entrada**\n",
        "\n",
        "Tres cadenas de caracteres. La primera representa los ataques de Castle, la segunda los ataques de Fisk, y la tercera la información de ataques que han sido capturados en los chips.\n",
        "\n",
        "**Salida**\n",
        "\n",
        "Una cadena de caracteres con los símbolos “C” (que representa a Frank Castle), “W” (Wilson Fisk) y “-”, que muestra quién va ganando al procesar cada ataque recibido.\n",
        "\n",
        "| Entrada                                    | Salida             |\n",
        "| :----------------------------------------: | :----------------: |\n",
        "| BWOCVT <br> JOIGED <br> YNYJAVOLBQKNYKSZYG | ---WW---CCCCCCCCC- |\n",
        "\n",
        "\n",
        "\n"
      ]
    },
    {
      "cell_type": "code",
      "metadata": {
        "colab": {
          "base_uri": "https://localhost:8080/"
        },
        "id": "jtlNANy4MqE8",
        "outputId": "5786d41b-159a-4372-a001-0268fadba356"
      },
      "source": [
        "castle = input('Ingrese cadena de Castle: ')\n",
        "fisk = input('Ingrese cadena de Fisk: ')\n",
        "other_prisoners = input('Ingrese cadena de los otros presos: ')\n",
        "\n",
        "#castle, fisk, other_prisoners = 'BWOCVT', 'JOIGED', 'YNYJAVOLBQKNYKSZYG'\n",
        "\n",
        "def battle_winner(castle_attack, fisk_attack, other_attacks):\n",
        "  winner_string = ''\n",
        "  accumulator_c, accumulator_f = 0, 0\n",
        "  for letter in other_attacks:\n",
        "    idx_c = castle_attack.find(letter)\n",
        "    idx_f = fisk_attack.find(letter)\n",
        "\n",
        "    if letter == castle_attack[idx_c]:\n",
        "      accumulator_c +=1\n",
        "\n",
        "    if letter == fisk_attack[idx_f]:\n",
        "      accumulator_f += 1\n",
        "\n",
        "    if accumulator_c == accumulator_f:\n",
        "      winner_string += '-'\n",
        "    elif accumulator_c < accumulator_f:\n",
        "      winner_string += 'F'\n",
        "    else:\n",
        "      winner_string += 'C'\n",
        "\n",
        "  return winner_string\n",
        "\n",
        "\n",
        "print(battle_winner(castle, fisk, other_prisoners))"
      ],
      "execution_count": null,
      "outputs": [
        {
          "output_type": "stream",
          "text": [
            "Ingrese cadena de Castle: BWOCVT\n",
            "Ingrese cadena de Fisk: JOIGED\n",
            "Ingrese cadena de los otros presos: YNYJAVOLBQKNYKSZYG\n",
            "---FF---CCCCCCCCC-\n"
          ],
          "name": "stdout"
        }
      ]
    },
    {
      "cell_type": "code",
      "metadata": {
        "colab": {
          "base_uri": "https://localhost:8080/"
        },
        "id": "9pGi0iGxa8gp",
        "outputId": "a4b4f364-29d3-4f57-cf18-2bd7f7e46ab1"
      },
      "source": [
        "import json\n",
        "\n",
        "articulos_supermercado = input('Ingrese lista supermecado: ')\n",
        "lista_crhistian = input('Ingrese la lista cristian: ').split(' ')\n",
        "articulos_supermercado = json.loads(articulos_supermercado)\n",
        "\n",
        "puntos = 0\n",
        "lista_productos = ''\n",
        "\n",
        "for elemento in lista_crhistian:\n",
        "    if elemento in articulos_supermercado:\n",
        "        lista_productos = lista_productos + elemento + ' '\n",
        "        puntos = puntos + articulos_supermercado[elemento]\n",
        "\n",
        "print(puntos)\n",
        "print(lista_productos)"
      ],
      "execution_count": null,
      "outputs": [
        {
          "output_type": "stream",
          "text": [
            "Ingrese lista supermecado: {\"Carne\": 64, \"Garbanzo\": 88, \"Fruta\": 54,  \"Lenteja\": 94, \"Verdura\": 66}\n",
            "Ingrese la lista critian: Fruta Leche Papa Huevos Carne\n",
            "118\n",
            "Fruta Carne \n"
          ],
          "name": "stdout"
        }
      ]
    },
    {
      "cell_type": "code",
      "metadata": {
        "id": "ZTYU6oYysYNX",
        "colab": {
          "base_uri": "https://localhost:8080/"
        },
        "outputId": "dcc4933b-540d-4034-8e92-ddbdafed75b8"
      },
      "source": [
        "print(type(True))\n",
        "x=range(11,20,2)\n",
        "print(x)"
      ],
      "execution_count": null,
      "outputs": [
        {
          "output_type": "stream",
          "text": [
            "<class 'bool'>\n",
            "range(11, 20, 2)\n"
          ],
          "name": "stdout"
        }
      ]
    },
    {
      "cell_type": "code",
      "metadata": {
        "colab": {
          "base_uri": "https://localhost:8080/"
        },
        "id": "-7pMZCO4oicq",
        "outputId": "94675d1c-0e34-4f54-e903-b5d2e63426aa"
      },
      "source": [
        "def valor_absoluto(x):\n",
        "    valor = x if x>=0 else -x\n",
        "    return valor\n",
        " \n",
        "print(valor_absoluto(-1))"
      ],
      "execution_count": null,
      "outputs": [
        {
          "output_type": "stream",
          "text": [
            "1\n"
          ],
          "name": "stdout"
        }
      ]
    },
    {
      "cell_type": "markdown",
      "metadata": {
        "id": "F-VdSn41vWce"
      },
      "source": [
        "## Reto 3: Grupo P80"
      ]
    },
    {
      "cell_type": "markdown",
      "metadata": {
        "id": "hitOqADXvahg"
      },
      "source": [
        "En un torneo virtual de la oficina, Michael desea conocer las rachas que ha tenido en Mario Kart, en el que al final de cada carrera puede terminar en las posiciones 1 a 8. Michael ha anotado en qué posición ha quedado cada vez, y desea procesar estos resultados para ver su avance de forma simplificada. Al final obtiene dos listados, el primero en el que agrega una nueva posición solo si esta cambia y la segunda la cantidad de veces que ocurrió esa posición de forma consecutiva.\n",
        "\n",
        " \n",
        "\n",
        "***Ejemplo:***\n",
        "\n",
        "**Entrada**:\n",
        "\n",
        "4 4 5 4 3 3 3\n",
        "\n",
        " \n",
        "\n",
        "**Salida**:\n",
        "\n",
        "4 5 4 3\n",
        "\n",
        "2 1 1 3\n",
        "\n",
        " \n",
        "\n",
        "Michael agregó la posición 4, que se repitió dos veces.\n",
        "\n",
        "Luego agregó la posición 5, que solo apareció una vez.\n",
        "\n",
        "Agregó como nueva posición el 4° lugar, que sucedió una vez en ese instante.\n",
        "\n",
        "Finalmente, aparece que terminó en la posición 3, que ocurrió 3 veces consecutivas.\n",
        "\n",
        "***Entrada***\n",
        "\n",
        "Listado de posiciones en los que llegó en cada carrera, separadas por un espacio.\n",
        "\n",
        " \n",
        "***Salida***\n",
        "\n",
        "Dos líneas: la primera línea representa las posiciones que ha obtenido separados por un espacio, y la segunda línea la cantidad de veces que se obtuvo esa posición de forma consecutiva.\n",
        "\n",
        "| Entrada                   |        Salida            |\n",
        "| :------------------------ | :----------------------- |\n",
        "| 7 6 6 6 2 6 6 6 6 5 5 5 5 | 7 6 2 6 5 <br> 1 3 1 4 4 |"
      ]
    },
    {
      "cell_type": "code",
      "metadata": {
        "colab": {
          "base_uri": "https://localhost:8080/"
        },
        "id": "0bdMQdBXvl8v",
        "outputId": "ca569ec1-d6a4-4705-c19c-fea0fe1bee61"
      },
      "source": [
        "#streaks_entry = '7 6 6 6 2 6 6 6 6 5 5 5 5'\n",
        "streaks_entry = '4 4 5 4 3 3 3' \n",
        "#streaks_entry = input('Ingrese cadena de rachas separada por un espacio: ')\n",
        " \n",
        " \n",
        "def process_results(streaks):\n",
        "  streaks = streaks.split(' ')\n",
        "  counter, previous_streak = 0, ''\n",
        "  positions, position_frequency = [], []\n",
        " \n",
        "  for streak in streaks: \n",
        "    if positions == []:\n",
        "      positions.append(streak)\n",
        "      previous_streak = streak\n",
        " \n",
        "    if streak != previous_streak:\n",
        "      positions.append(streak)\n",
        "      position_frequency.append(str(counter))\n",
        "      previous_streak = streak\n",
        "      counter = 0\n",
        " \n",
        "    if streak == previous_streak:\n",
        "      counter += 1\n",
        "    \n",
        "  \n",
        "  \n",
        "  print(' '.join(positions))\n",
        "  print(' '.join(position_frequency))\n",
        " \n",
        " \n",
        "process_results(streaks_entry)"
      ],
      "execution_count": null,
      "outputs": [
        {
          "output_type": "stream",
          "text": [
            "4 5 4 3\n",
            "2 1 1 3\n"
          ],
          "name": "stdout"
        }
      ]
    },
    {
      "cell_type": "code",
      "metadata": {
        "colab": {
          "base_uri": "https://localhost:8080/"
        },
        "id": "JVnWMzbZ3EfB",
        "outputId": "c90395d7-e222-455d-ec43-02a9ded4071f"
      },
      "source": [
        "#lista_inicial = '4 4 5 4 3 3 3'\n",
        "lista_inicial = '1 2 2 3 3 3 4 4 4 4 5 5 5 5 5'\n",
        "lista_inicial = lista_inicial.split(' ')\n",
        "\n",
        "lista_resultado1, lista_resultado2 = [], []\n",
        "contador = 1\n",
        "\n",
        "for i in range(1, len(lista_inicial)):\n",
        "  if (lista_inicial[i] != lista_inicial[i-1]):\n",
        "    lista_resultado1.append(lista_inicial[i-1])\n",
        "\n",
        "  if (lista_inicial[i] == lista_inicial[i-1]):\n",
        "    contador += 1\n",
        "  else:\n",
        "    lista_resultado2.append(str(contador))\n",
        "    contador = 1\n",
        "\n",
        "lista_resultado1.append(lista_inicial[i])\n",
        "lista_resultado2.append(str(contador))\n",
        "\n",
        "print(' '.join(lista_resultado1))\n",
        "print(' '.join(lista_resultado2))"
      ],
      "execution_count": null,
      "outputs": [
        {
          "output_type": "stream",
          "text": [
            "1 2 3 4 5\n",
            "1 2 3 4 5\n"
          ],
          "name": "stdout"
        }
      ]
    },
    {
      "cell_type": "code",
      "metadata": {
        "colab": {
          "base_uri": "https://localhost:8080/"
        },
        "id": "uAyOwoKOoKy-",
        "outputId": "8c98460d-b064-4a7b-f21d-b333ab529d09"
      },
      "source": [
        "def Resultados_Mario(Resul):\n",
        "    Result = Resul.split(' ')\n",
        "    Posiciones, cuenta, b = '', '', ''\n",
        "    contador = 0\n",
        "    \n",
        "    for i in Result:\n",
        "        if Posiciones == '':\n",
        "            Posiciones += i\n",
        "            b = i\n",
        "        if i != b:\n",
        "            Posiciones += i\n",
        "            cuenta += str(contador)\n",
        "            b = i\n",
        "            contador = 0\n",
        "        if i == b:\n",
        "            contador += 1\n",
        "            #print(contador)\n",
        "    cuenta += str(contador)\n",
        "\n",
        "    print(' '.join(Posiciones))\n",
        "    print(' '.join(cuenta))\n",
        "\n",
        "\n",
        "Resultados = '4 4 5 4 3 3 3' #'1 2 2 3 3 3 4 4 4 4 5 5 5 5 5'   #str(input())\n",
        "Resultados_Mario(Resultados)"
      ],
      "execution_count": null,
      "outputs": [
        {
          "output_type": "stream",
          "text": [
            "4 5 4 3\n",
            "2 1 1 3\n"
          ],
          "name": "stdout"
        }
      ]
    },
    {
      "cell_type": "markdown",
      "metadata": {
        "id": "ws3Wxt1b3_Z8"
      },
      "source": [
        "https://pythontutor.com/"
      ]
    },
    {
      "cell_type": "markdown",
      "metadata": {
        "id": "ctSMuhK54BwJ"
      },
      "source": [
        "3013220021   cel profe  Carlos"
      ]
    },
    {
      "cell_type": "code",
      "metadata": {
        "id": "n7ByEfAa4spJ"
      },
      "source": [
        "\n",
        "#Floricelda Pete Yoja \n",
        "#cc. 1062085358"
      ],
      "execution_count": null,
      "outputs": []
    },
    {
      "cell_type": "markdown",
      "metadata": {
        "id": "aX8pHEZkcXB2"
      },
      "source": [
        "##Reto 4: Grupo P80"
      ]
    },
    {
      "cell_type": "markdown",
      "metadata": {
        "id": "ApVeQSdAbyQf"
      },
      "source": [
        "\n",
        "Christian Nodal necesita ir a mercar y su padre le ha encargado una lista con los artículos a comprar. El supermercado al que él va tiene un programa de puntos por la compra de determinados productos, el cual está publicado en la entrada de la tienda. Christian desea conocer cuáles artículos de los que tiene en la lista están en el programa de puntos, y adicionalmente, cuántos puntos acumularía por los mismos. \n",
        "\n",
        "**Entrada**\n",
        "\n",
        "La entrada consta de dos líneas. La primera línea contiene un diccionario en formato JSON con los productos que el supermercado ha dispuesto en su mercado de puntos, donde cada *producto* es una llave que contiene como valor *puntos*.  La segunda corresponde al listado de productos que se adquirirán en el supermercado, separados por un espacio. \n",
        "\n",
        "**Salida**\n",
        "\n",
        "Dos líneas. La primera línea corresponde a los puntos acumulados de los productos de la lista de mercar que están en el programa de puntos. La segunda línea corresponde al listado de dichos productos, separados por un espacio. \n",
        "\n",
        "<br>\n",
        "\n",
        "| **Entrada** | **Salida** |\n",
        "| :---------- | :--------- |\n",
        "| {\"Carne\": 64, \"Garbanzo\": 88, \"Fruta\": 54, \"Lenteja\": 94, \"Verdura\": 66} <br> Fruta Leche Papa Huevos Carne | 118 <br> Fruta Carne|\n",
        "| {\"Arroz\": 77, \"Frijol\": 19, \"Pescado\": 68, \"Verdura\": 57, \"Fruta\": 41} <br> Huevos Carne Yogur Pollo Arroz | 77 <br> Arroz |\n",
        "\n"
      ]
    },
    {
      "cell_type": "code",
      "metadata": {
        "colab": {
          "base_uri": "https://localhost:8080/"
        },
        "id": "WP-0H650cZO0",
        "outputId": "f3ad47d7-4746-4522-cadb-727b1ac8a2d7"
      },
      "source": [
        "import json\n",
        "\n",
        "json_supermarket = input('Ingrese datos Json: ')\n",
        "Christians_father_list = input('Ingrese lista de compras padres de Christian: ')\n",
        "\n",
        "#json_supermarket = '{\"Carne\": 64, \"Garbanzo\": 88, \"Fruta\": 54, \"Lenteja\": 94, \"Verdura\": 66}'\n",
        "#Christians_father_list = 'Fruta Leche Papa Huevos Carne'\n",
        "\n",
        "#json_supermarket = '{\"Arroz\": 77, \"Frijol\": 19, \"Pescado\": 68, \"Verdura\": 57, \"Fruta\": 41}'\n",
        "#Christians_father_list = 'Huevos Carne Yogur Pollo Arroz'\n",
        "\n",
        "data_supermarket = json.loads(json_supermarket)\n",
        "Christians_father_list = Christians_father_list.split(' ')\n",
        "\n",
        "accumulated_points = 0\n",
        "products_in_points_program = []\n",
        "\n",
        "for product in Christians_father_list:\n",
        "    if product in data_supermarket:\n",
        "        products_in_points_program.append(product)\n",
        "        accumulated_points += data_supermarket[product]\n",
        "\n",
        "\n",
        "print(accumulated_points)\n",
        "print(' '.join(products_in_points_program))\n"
      ],
      "execution_count": null,
      "outputs": [
        {
          "output_type": "stream",
          "text": [
            "77\n",
            "Arroz\n"
          ],
          "name": "stdout"
        }
      ]
    },
    {
      "cell_type": "code",
      "metadata": {
        "colab": {
          "base_uri": "https://localhost:8080/"
        },
        "id": "CZfb2_ZJqAZA",
        "outputId": "f79a06a3-3be6-42cf-8c1b-8d9cf3b93c2d"
      },
      "source": [
        "#claves = eval('')\n",
        "#lista_mercado = 'Fruta Leche Papa Huevos Carne'\n",
        "#lista_mercado = input('Ingrese lista mercado: ').split(' ')\n",
        "\n",
        "claves = \"{\\\"Carne\\\": 64, \\\"Garbanzo\\\": 88, \\\"Fruta\\\": 54, \\\"Lenteja\\\": 94, \\\"Verdura\\\": 66}\" #@param {type:\"string\"}\n",
        "claves = eval(claves)\n",
        "lista_mercado = 'Fruta Leche Papa Huevos Carne' #@param {type:\"string\"}\n",
        "lista_mercado = lista_mercado.split(' ')\n",
        "\n",
        "b, c = 0, ''\n",
        "\n",
        "for elemento in lista_mercado:\n",
        "    if elemento in claves:\n",
        "        c += elemento + \" \"\n",
        "        b += claves[elemento]\n",
        "print(b)\n",
        "print(c)"
      ],
      "execution_count": null,
      "outputs": [
        {
          "output_type": "stream",
          "text": [
            "118\n",
            "Fruta Carne \n"
          ],
          "name": "stdout"
        }
      ]
    },
    {
      "cell_type": "markdown",
      "metadata": {
        "id": "UgkN8v9zcuZl"
      },
      "source": [
        "##Reto 5: Grupo P80"
      ]
    },
    {
      "cell_type": "markdown",
      "metadata": {
        "id": "co_cBeWy4QNL"
      },
      "source": [
        "\n",
        "*PokeTwo* es un bot de Discord que permite coleccionar Pokémon usando comandos de texto. En el servidor, necesitan un módulo en Python que permita realizar las siguientes operaciones sobre los Pokémon que cada usuario ha coleccionado:\n",
        "\n",
        " \n",
        "\n",
        "1. ```obtener_todos(lista):``` dada una lista de Pokémon capturados, retorna una lista de todos los Pokémon sin repeticiones.\n",
        "\n",
        "| **Entrada:** | **Resultado:** |\n",
        "| :----------- | :------------- |\n",
        "| ```['Pikachu', 'Meowth', 'Eevee', 'Bulbasaur', 'Pikachu', 'Eevee']``` | ```['Pikachu', 'Meowth', 'Eevee', 'Bulbasaur']```\n",
        "\n",
        " \n",
        "\n",
        "2. ```obtener_coincidencia(posLista, pokemonLista, pokemonBuscado):``` Una lista de posiciones a revisar, una lista de Pokémon y el nombre de un Pokémon son recibidos como parámetros. Como salida, se debe devolver la lista de las posiciones en donde el nombre del Pokémon coincidió dentro de pokemonLista y que a su vez coincida en la posición dada en posLista.\n",
        "\n",
        "| **Entrada de la función}** | **Resultado** |\n",
        "| :------------------------- | :------------ |\n",
        "| ```[0, 2, 3, 5, 6]``` <br> ```['Pikachu', 'Pichu', 'Raichu', 'Bulbasaur', 'Eevee', 'Meowth', 'Pikachu', 'Pikachu']``` <br> ```Pikachu``` | ```[0, 6]``` |\n",
        "\n",
        " <br>\n",
        "\n",
        "3. ```obtener_pokemon_diferentes(pokemonUsuario1, pokemonUsuario2):``` se dan dos listas, las cuales representan listas de Pokémon capturados por dos usuarios diferentes. Se procesan ambas listas y retorna los Pokémon que no tenga el primer usuario.\n",
        "\n",
        "\n",
        "\n",
        "| **Entrada de la función** | **Resultado** |\n",
        "| :------------------------ | :------------ |\n",
        "| ```['Pikachu', 'Meowth', 'Pichu']``` <br> ```['Raichu', 'Pikachu', 'Squirtle']``` | ```['Meowth', 'Pichu']``` |\n",
        "\n",
        " <br>\n",
        "\n",
        "4. ```obtener_numero_intercambios(pokemonUsuario1, pokemonUsuario2):``` se dan dos listas, las cuales representan los Pokémon que pueden intercambiar dos usuarios. Retorna el número de intercambios posibles que pueden realizar.\n",
        "\n",
        "| **Entrada de la función** | **Resultado** |\n",
        "| :------------------------ | :------------ |\n",
        "| ```['Pikachu', 'Bulbasaur', 'Charmander', 'Squirtle']``` <br> ```['Pikachu', 'Pichu', 'Raichu']``` | ```2``` |\n",
        "\n",
        "<br>\n",
        "\n",
        "**Entrada**\n",
        "\n",
        "Este programa no necesita entrada y tampoco generará salida. Se requiere que el estudiante genere un archivo con el nombre ***pokemon_adicionales.py***. Adicionalmente, los nombres de las funciones deben ser iguales a los descritos en este documento.\n",
        "\n",
        "**Puntuación**\n",
        "\n",
        "Si los integrantes del servidor de Discord pueden importar el módulo se obtiene un punto. Para cada función que cumpla con la funcionalidad pedida se agrega un punto. Esto para un total de 5 puntos.\n",
        "\n"
      ]
    },
    {
      "cell_type": "code",
      "metadata": {
        "id": "exkWDfs14M64"
      },
      "source": [
        "\n",
        "def obtener_todos(lista): #1\n",
        "    salida = []\n",
        "    for elemento in lista:\n",
        "        if elemento not in salida:\n",
        "            salida.append(elemento)    \n",
        "    return salida\n",
        "\n",
        "'''\n",
        "def obtener_coincidencia(posLista, pokemonLista, pokemonBuscado): #2\n",
        "    salida = []\n",
        "    for idx in range(len(pokemonLista)):\n",
        "        if (pokemonLista[idx] == pokemonBuscado) and (idx in posLista):\n",
        "            salida.append(idx)   \n",
        "    return salida\n",
        "'''\n",
        "\n",
        "def obtener_coincidencia(posLista, pokemonLista, pokemonBuscado):\n",
        "    r = []\n",
        "    for posicion in posLista:\n",
        "        if posicion < len(pokemonLista):\n",
        "            if pokemonBuscado in pokemonLista[posicion]:\n",
        "                r.append(posicion)\n",
        "        else:\n",
        "            break\n",
        "    return r\n",
        "\n",
        "\n",
        "def obtener_pokemon_diferentes(pokemonUsuario1, pokemonUsuario2):  #3\n",
        "    salida = []\n",
        "    for pokemon in pokemonUsuario1:\n",
        "        if pokemon not in pokemonUsuario2:\n",
        "            salida.append(pokemon)\n",
        "    return salida\n",
        "\n",
        "\n",
        "def obtener_numero_intercambios(pokemonUsuario1, pokemonUsuario2): #4\n",
        "    if len(pokemonUsuario2) <= len(pokemonUsuario1):\n",
        "        return len(obtener_pokemon_diferentes(pokemonUsuario2, pokemonUsuario1))\n",
        "    else:\n",
        "        return len(obtener_pokemon_diferentes(pokemonUsuario1, pokemonUsuario2))"
      ],
      "execution_count": null,
      "outputs": []
    },
    {
      "cell_type": "code",
      "metadata": {
        "colab": {
          "base_uri": "https://localhost:8080/"
        },
        "id": "vuKNSzzs7w3G",
        "outputId": "72c6c298-490f-4198-929b-ffbee490daad"
      },
      "source": [
        "%reset"
      ],
      "execution_count": null,
      "outputs": [
        {
          "output_type": "stream",
          "text": [
            "Once deleted, variables cannot be recovered. Proceed (y/[n])? y\n"
          ],
          "name": "stdout"
        }
      ]
    },
    {
      "cell_type": "markdown",
      "metadata": {
        "id": "376cSCf87baj"
      },
      "source": [
        "####Pruebas reto 5"
      ]
    },
    {
      "cell_type": "code",
      "metadata": {
        "colab": {
          "base_uri": "https://localhost:8080/"
        },
        "id": "RPcPeOmM7hH3",
        "outputId": "0639544e-e11a-4c16-c420-c46266aa9e39"
      },
      "source": [
        "\n",
        "if obtener_todos(['Pikachu', 'Meowth', 'Eevee', 'Bulbasaur', 'Pikachu', 'Eevee']) == ['Pikachu', 'Meowth', 'Eevee', 'Bulbasaur']:\n",
        "    print('Función 1: Passed test')\n",
        "else:\n",
        "    print('Función 1: Failed test')\n",
        "\n",
        "\n",
        "if obtener_coincidencia([0, 2, 3, 5, 6, 8],\n",
        "                     ['Pikachu', 'Pichu', 'Raichu', 'Bulbasaur', 'Eevee', 'Meowth', 'Pikachu', 'Pikachu'],\n",
        "                     'Pikachu') == [0,6]:\n",
        "                     print('Función 2: Passed test')\n",
        "else:\n",
        "    print('Función 2: Failed test')\n",
        "    print(obtener_coincidencia([0, 2, 3, 5, 6, 8],\n",
        "                     ['Pikachu', 'Pichu', 'Raichu', 'Bulbasaur', 'Eevee', 'Meowth', 'Pikachu', 'Pikachu'],\n",
        "                     'Pikachu'))\n",
        "\n",
        "\n",
        "if obtener_pokemon_diferentes(['Pikachu', 'Meowth', 'Pichu'],\n",
        "                           ['Raichu', 'Pikachu', 'Squirtle']) == ['Meowth', 'Pichu']:\n",
        "                           print('Función 3: Passed test')\n",
        "else:\n",
        "    print('Función 3: Failed test',end='')\n",
        "    print(' ',obtener_pokemon_diferentes(['Pikachu', 'Meowth', 'Pichu'],\n",
        "                           ['Raichu', 'Pikachu', 'Squirtle']))\n",
        "\n",
        "\n",
        "if obtener_numero_intercambios(['Pikachu', 'Bulbasaur', 'Charmander', 'Squirtle'],\n",
        "                               ['Pikachu', 'Pichu', 'Raichu']) == 2:\n",
        "                               print('Función 4: Passed test\\n\\n')\n",
        "else:\n",
        "    print('Función 4: Failed test')\n"
      ],
      "execution_count": null,
      "outputs": [
        {
          "output_type": "stream",
          "text": [
            "Función 1: Passed test\n",
            "Función 2: Passed test\n",
            "Función 3: Passed test\n",
            "Función 4: Passed test\n",
            "\n",
            "\n"
          ],
          "name": "stdout"
        }
      ]
    },
    {
      "cell_type": "markdown",
      "metadata": {
        "id": "2E-oKvq5FMIO"
      },
      "source": [
        "\n",
        "[Cómo encontrar el índice de un artículo en la lista de Python](https://www.delftstack.com/es/howto/python/how-to-find-the-index-of-an-element-in-a-list-in-python/)"
      ]
    },
    {
      "cell_type": "markdown",
      "metadata": {
        "id": "LLgJXoaeo33C"
      },
      "source": [
        "## Nota final de los retos"
      ]
    },
    {
      "cell_type": "code",
      "metadata": {
        "colab": {
          "base_uri": "https://localhost:8080/"
        },
        "id": "9kkzkF-co9Ca",
        "outputId": "26311d5e-6f18-433b-f76a-9e7c723d5a45"
      },
      "source": [
        "#[R1, R2, R3, R4, R5, Ingles]\n",
        "notas_parciales = [5, 5, 5, 5, 5, 4.45]\n",
        "pesos = [0.1, 0.1, 0.2, 0.2, 0.2, 0.2]\n",
        "\n",
        "nota_final, idx = 0.0, 0\n",
        "for nota in notas_parciales:\n",
        "    nota_final += nota*pesos[idx]\n",
        "    idx +=1\n",
        "    \n",
        "\n",
        "print(f'Nota final: {nota_final:0.2f}')"
      ],
      "execution_count": null,
      "outputs": [
        {
          "output_type": "stream",
          "text": [
            "Nota final: 4.89\n"
          ],
          "name": "stdout"
        }
      ]
    },
    {
      "cell_type": "code",
      "metadata": {
        "colab": {
          "base_uri": "https://localhost:8080/"
        },
        "id": "ve_jx-iTRzKA",
        "outputId": "beab7cae-490c-4589-e3b8-9b6086ae98c5"
      },
      "source": [
        "lista =['Pikachu', 'Meowth', 'Eevee', 'Bulbasaur', 'Pikachu', 'Eevee']\n",
        "lista_sin_repetidos = set(lista)\n",
        "print(lista)\n",
        "print(sorted(lista_sin_repetidos))\n",
        "print(lista == sorted(lista_sin_repetidos))"
      ],
      "execution_count": null,
      "outputs": [
        {
          "output_type": "stream",
          "text": [
            "['Pikachu', 'Meowth', 'Eevee', 'Bulbasaur', 'Pikachu', 'Eevee']\n",
            "['Bulbasaur', 'Eevee', 'Meowth', 'Pikachu']\n",
            "False\n"
          ],
          "name": "stdout"
        }
      ]
    },
    {
      "cell_type": "code",
      "metadata": {
        "colab": {
          "base_uri": "https://localhost:8080/"
        },
        "id": "eQgfOZg9Bcfc",
        "outputId": "e42f2014-8fa8-4f8b-9ac9-d4be8473554f"
      },
      "source": [
        "if 'al' in 'la altura':\n",
        "    print('yes')\n",
        "else:\n",
        "    print('no')"
      ],
      "execution_count": null,
      "outputs": [
        {
          "output_type": "stream",
          "text": [
            "yes\n"
          ],
          "name": "stdout"
        }
      ]
    }
  ]
}